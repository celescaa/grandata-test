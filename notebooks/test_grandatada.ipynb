{
 "cells": [
  {
   "cell_type": "code",
   "execution_count": null,
   "metadata": {},
   "outputs": [],
   "source": [
    "from pyspark.sql import SparkSession, DataFrame\n",
    "from pyspark.sql.functions import col,md5\n",
    "import matplotlib.pyplot as plt\n",
    "\n",
    "\n",
    "# Crear SparkSession\n",
    "spark = SparkSession.builder.appName(\"Grandata_Test\").getOrCreate()\n",
    "spark.range(10).show()\n",
    "\n",
    "\n",
    "\n",
    "# Creo las variables con la ruta de los archivos de datos \n",
    "ruta_eventos_csv=\"/home/jovyan/data/events.csv.gz\"\n",
    "ruta_destinso_csv=\"/home/jovyan/data/free_sms_destinations.csv.gz\"\n",
    "\n",
    "\n",
    "# Leer el archivo CSV como DataFrame\n",
    "df_eventos = spark.read.csv(ruta_eventos_csv, header=True, inferSchema=True)\n",
    "df_destinos = spark.read.csv(ruta_destinso_csv, header=True, inferSchema=True)\n",
    "\n",
    "# Mostrar las primeras filas del DataFrame para verificar\n",
    "df_eventos.show()\n",
    "df_destinos.show()\n",
    "\n",
    "# Creo temporales     \n",
    "df_eventos.createOrReplaceTempView(\"eventos\")\n",
    "df_destinos.createOrReplaceTempView(\"destinos_gratuitos\")\n",
    "\n",
    "\n"
   ]
  },
  {
   "cell_type": "code",
   "execution_count": null,
   "metadata": {},
   "outputs": [],
   "source": [
    "\n",
    "# Con la query calculamos la el costo total a facturar de la empresa.\n",
    "df_costo_total = spark.sql(f\"\"\" SELECT \n",
    "                            SUM( CASE \n",
    "                                    WHEN CAST(region AS INT) BETWEEN 1 AND 5 THEN 1.5\n",
    "                                    WHEN CAST(region AS INT) BETWEEN 6 AND 9 THEN 2\n",
    "                                    ELSE 0 \n",
    "                                END ) AS costo_total\n",
    "                            FROM eventos\n",
    "                            LEFT JOIN destinos_gratuitos ON eventos.id_destination = destinos_gratuitos.id\n",
    "                            WHERE destinos_gratuitos.id IS NULL \n",
    "                            AND id_destination IS NOT NULL \n",
    "                            AND id_source IS NOT NULL\n",
    "                                        \"\"\")\n",
    "\n",
    "\n",
    "df_costo_total.show()\n",
    "\n",
    "\n"
   ]
  },
  {
   "cell_type": "code",
   "execution_count": null,
   "metadata": {},
   "outputs": [],
   "source": [
    "# Agrupamos por id_source, y sumamos sus costos, ordenamos y nos quedamos con los primero 100\n",
    "# Dejo fuera de juego aquellos con id null y tambien los que no tienen costo el envio de msj \n",
    "\n",
    "df_costo_usuario = spark.sql(f\"\"\" SELECT md5(id_source) AS ID_SOURCE,\n",
    "                            SUM( CASE \n",
    "                                    WHEN CAST(region AS INT) BETWEEN 1 AND 5 THEN 1.5\n",
    "                                    WHEN CAST(region AS INT) BETWEEN 6 AND 9 THEN 2\n",
    "                                    ELSE 0 \n",
    "                                END ) AS costo\n",
    "                            FROM eventos\n",
    "                            LEFT JOIN destinos_gratuitos ON eventos.id_destination = destinos_gratuitos.id\n",
    "                            WHERE destinos_gratuitos.id IS NULL \n",
    "                            AND id_destination IS NOT NULL \n",
    "                            AND id_source IS NOT NULL\n",
    "                     GROUP BY id_source\n",
    "                     ORDER BY costo desc \n",
    "                     LIMIT 100\n",
    "                                        \"\"\")\n",
    "\n",
    "\n",
    "\n",
    "df_costo_usuario.show()                  \n",
    "\n",
    "# Escribimos el parques con compresion gzip\n",
    "df_costo_usuario.write.mode(\"overwrite\").parquet(\"/home/jovyan/data/parquet\", compression=\"gzip\")\n"
   ]
  },
  {
   "cell_type": "code",
   "execution_count": null,
   "metadata": {},
   "outputs": [],
   "source": [
    "# Agrupo las llamadas por hora\n",
    "llamadas_por_hora_df = df_eventos.groupBy(\"hour\").count()\n",
    "\n",
    "# Convertir a Pandas DataFrame para graficar\n",
    "pd_df = llamadas_por_hora_df.toPandas()\n",
    "\n",
    "# Ordenar por hora\n",
    "pd_df.sort_values(\"hour\", inplace=True)\n",
    "\n",
    "# Graficar\n",
    "plt.figure(figsize=(10,6))\n",
    "plt.bar(pd_df[\"hour\"], pd_df[\"count\"], color='blue')\n",
    "plt.xlabel('Hora del día')\n",
    "plt.ylabel('Cantidad de llamadas')\n",
    "plt.title('Histograma de llamadas por hora del día')\n",
    "plt.savefig('/home/jovyan/data/histograma_llamadas_por_hora.png')"
   ]
  },
  {
   "cell_type": "code",
   "execution_count": null,
   "metadata": {},
   "outputs": [],
   "source": []
  }
 ],
 "metadata": {
  "kernelspec": {
   "display_name": "Python 3",
   "language": "python",
   "name": "python3"
  },
  "language_info": {
   "codemirror_mode": {
    "name": "ipython",
    "version": 3
   },
   "file_extension": ".py",
   "mimetype": "text/x-python",
   "name": "python",
   "nbconvert_exporter": "python",
   "pygments_lexer": "ipython3",
   "version": "3.9.6"
  }
 },
 "nbformat": 4,
 "nbformat_minor": 2
}
